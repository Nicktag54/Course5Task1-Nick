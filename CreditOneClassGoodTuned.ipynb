{
 "cells": [
  {
   "cell_type": "code",
   "execution_count": 16,
   "metadata": {},
   "outputs": [],
   "source": [
    "#Start C5T3 step 4 - classification Credit One Data Set\n",
    "#numpy,pandas,scipy,math,matplotlib\n",
    "import numpy as np\n",
    "import pandas as pd\n",
    "import scipy\n",
    "from math import sqrt\n",
    "import matplotlib.pyplot as plt\n",
    "\n",
    "#Estimators\n",
    "from sklearn.neighbors import NearestNeighbors\n",
    "from sklearn import tree\n",
    "from sklearn import svm\n",
    "from sklearn.linear_model import SGDClassifier\n",
    "from sklearn.ensemble import GradientBoostingClassifier\n",
    "\n",
    "#Model Metrics\n",
    "from sklearn.metrics import accuracy_score\n",
    "from sklearn.metrics import cohen_kappa_score\n",
    "from sklearn.metrics import confusion_matrix\n",
    "from sklearn.metrics import classification_report\n",
    "from sklearn.model_selection import cross_val_score\n",
    "\n",
    "#Cross Validation\n",
    "from sklearn.cross_validation import train_test_split"
   ]
  },
  {
   "cell_type": "code",
   "execution_count": 17,
   "metadata": {},
   "outputs": [
    {
     "data": {
      "text/html": [
       "<div>\n",
       "<style scoped>\n",
       "    .dataframe tbody tr th:only-of-type {\n",
       "        vertical-align: middle;\n",
       "    }\n",
       "\n",
       "    .dataframe tbody tr th {\n",
       "        vertical-align: top;\n",
       "    }\n",
       "\n",
       "    .dataframe thead th {\n",
       "        text-align: right;\n",
       "    }\n",
       "</style>\n",
       "<table border=\"1\" class=\"dataframe\">\n",
       "  <thead>\n",
       "    <tr style=\"text-align: right;\">\n",
       "      <th></th>\n",
       "      <th>ID</th>\n",
       "      <th>LIMIT_BAL</th>\n",
       "      <th>SEX</th>\n",
       "      <th>EDUCATION</th>\n",
       "      <th>MARRIAGE</th>\n",
       "      <th>AGE</th>\n",
       "      <th>PAY_0</th>\n",
       "      <th>PAY_2</th>\n",
       "      <th>PAY_3</th>\n",
       "      <th>PAY_4</th>\n",
       "      <th>...</th>\n",
       "      <th>BILL_AMT4</th>\n",
       "      <th>BILL_AMT5</th>\n",
       "      <th>BILL_AMT6</th>\n",
       "      <th>PAY_AMT1</th>\n",
       "      <th>PAY_AMT2</th>\n",
       "      <th>PAY_AMT3</th>\n",
       "      <th>PAY_AMT4</th>\n",
       "      <th>PAY_AMT5</th>\n",
       "      <th>PAY_AMT6</th>\n",
       "      <th>DEFAULT</th>\n",
       "    </tr>\n",
       "  </thead>\n",
       "  <tbody>\n",
       "    <tr>\n",
       "      <th>0</th>\n",
       "      <td>1</td>\n",
       "      <td>20000</td>\n",
       "      <td>2</td>\n",
       "      <td>2</td>\n",
       "      <td>1</td>\n",
       "      <td>24</td>\n",
       "      <td>2</td>\n",
       "      <td>2</td>\n",
       "      <td>-1</td>\n",
       "      <td>-1</td>\n",
       "      <td>...</td>\n",
       "      <td>0</td>\n",
       "      <td>0</td>\n",
       "      <td>0</td>\n",
       "      <td>0</td>\n",
       "      <td>689</td>\n",
       "      <td>0</td>\n",
       "      <td>0</td>\n",
       "      <td>0</td>\n",
       "      <td>0</td>\n",
       "      <td>1</td>\n",
       "    </tr>\n",
       "    <tr>\n",
       "      <th>1</th>\n",
       "      <td>2</td>\n",
       "      <td>120000</td>\n",
       "      <td>2</td>\n",
       "      <td>2</td>\n",
       "      <td>2</td>\n",
       "      <td>26</td>\n",
       "      <td>-1</td>\n",
       "      <td>2</td>\n",
       "      <td>0</td>\n",
       "      <td>0</td>\n",
       "      <td>...</td>\n",
       "      <td>3272</td>\n",
       "      <td>3455</td>\n",
       "      <td>3261</td>\n",
       "      <td>0</td>\n",
       "      <td>1000</td>\n",
       "      <td>1000</td>\n",
       "      <td>1000</td>\n",
       "      <td>0</td>\n",
       "      <td>2000</td>\n",
       "      <td>1</td>\n",
       "    </tr>\n",
       "    <tr>\n",
       "      <th>2</th>\n",
       "      <td>3</td>\n",
       "      <td>90000</td>\n",
       "      <td>2</td>\n",
       "      <td>2</td>\n",
       "      <td>2</td>\n",
       "      <td>34</td>\n",
       "      <td>0</td>\n",
       "      <td>0</td>\n",
       "      <td>0</td>\n",
       "      <td>0</td>\n",
       "      <td>...</td>\n",
       "      <td>14331</td>\n",
       "      <td>14948</td>\n",
       "      <td>15549</td>\n",
       "      <td>1518</td>\n",
       "      <td>1500</td>\n",
       "      <td>1000</td>\n",
       "      <td>1000</td>\n",
       "      <td>1000</td>\n",
       "      <td>5000</td>\n",
       "      <td>0</td>\n",
       "    </tr>\n",
       "    <tr>\n",
       "      <th>3</th>\n",
       "      <td>4</td>\n",
       "      <td>50000</td>\n",
       "      <td>2</td>\n",
       "      <td>2</td>\n",
       "      <td>1</td>\n",
       "      <td>37</td>\n",
       "      <td>0</td>\n",
       "      <td>0</td>\n",
       "      <td>0</td>\n",
       "      <td>0</td>\n",
       "      <td>...</td>\n",
       "      <td>28314</td>\n",
       "      <td>28959</td>\n",
       "      <td>29547</td>\n",
       "      <td>2000</td>\n",
       "      <td>2019</td>\n",
       "      <td>1200</td>\n",
       "      <td>1100</td>\n",
       "      <td>1069</td>\n",
       "      <td>1000</td>\n",
       "      <td>0</td>\n",
       "    </tr>\n",
       "    <tr>\n",
       "      <th>4</th>\n",
       "      <td>5</td>\n",
       "      <td>50000</td>\n",
       "      <td>1</td>\n",
       "      <td>2</td>\n",
       "      <td>1</td>\n",
       "      <td>57</td>\n",
       "      <td>-1</td>\n",
       "      <td>0</td>\n",
       "      <td>-1</td>\n",
       "      <td>0</td>\n",
       "      <td>...</td>\n",
       "      <td>20940</td>\n",
       "      <td>19146</td>\n",
       "      <td>19131</td>\n",
       "      <td>2000</td>\n",
       "      <td>36681</td>\n",
       "      <td>10000</td>\n",
       "      <td>9000</td>\n",
       "      <td>689</td>\n",
       "      <td>679</td>\n",
       "      <td>0</td>\n",
       "    </tr>\n",
       "  </tbody>\n",
       "</table>\n",
       "<p>5 rows × 25 columns</p>\n",
       "</div>"
      ],
      "text/plain": [
       "   ID  LIMIT_BAL  SEX  EDUCATION  MARRIAGE  AGE  PAY_0  PAY_2  PAY_3  PAY_4  \\\n",
       "0   1      20000    2          2         1   24      2      2     -1     -1   \n",
       "1   2     120000    2          2         2   26     -1      2      0      0   \n",
       "2   3      90000    2          2         2   34      0      0      0      0   \n",
       "3   4      50000    2          2         1   37      0      0      0      0   \n",
       "4   5      50000    1          2         1   57     -1      0     -1      0   \n",
       "\n",
       "    ...     BILL_AMT4  BILL_AMT5  BILL_AMT6  PAY_AMT1  PAY_AMT2  PAY_AMT3  \\\n",
       "0   ...             0          0          0         0       689         0   \n",
       "1   ...          3272       3455       3261         0      1000      1000   \n",
       "2   ...         14331      14948      15549      1518      1500      1000   \n",
       "3   ...         28314      28959      29547      2000      2019      1200   \n",
       "4   ...         20940      19146      19131      2000     36681     10000   \n",
       "\n",
       "   PAY_AMT4  PAY_AMT5  PAY_AMT6  DEFAULT  \n",
       "0         0         0         0        1  \n",
       "1      1000         0      2000        1  \n",
       "2      1000      1000      5000        0  \n",
       "3      1100      1069      1000        0  \n",
       "4      9000       689       679        0  \n",
       "\n",
       "[5 rows x 25 columns]"
      ]
     },
     "execution_count": 17,
     "metadata": {},
     "output_type": "execute_result"
    }
   ],
   "source": [
    "#Get raw data set Credit Card\n",
    "rawData = pd.read_csv('default of credit card clients.csv', header=1)\n",
    "rawData.head()"
   ]
  },
  {
   "cell_type": "code",
   "execution_count": 18,
   "metadata": {},
   "outputs": [
    {
     "name": "stdout",
     "output_type": "stream",
     "text": [
      "<class 'pandas.core.frame.DataFrame'>\n",
      "RangeIndex: 30000 entries, 0 to 29999\n",
      "Data columns (total 25 columns):\n",
      "ID           30000 non-null int64\n",
      "LIMIT_BAL    30000 non-null int64\n",
      "SEX          30000 non-null int64\n",
      "EDUCATION    30000 non-null int64\n",
      "MARRIAGE     30000 non-null int64\n",
      "AGE          30000 non-null int64\n",
      "PAY_0        30000 non-null int64\n",
      "PAY_2        30000 non-null int64\n",
      "PAY_3        30000 non-null int64\n",
      "PAY_4        30000 non-null int64\n",
      "PAY_5        30000 non-null int64\n",
      "PAY_6        30000 non-null int64\n",
      "BILL_AMT1    30000 non-null int64\n",
      "BILL_AMT2    30000 non-null int64\n",
      "BILL_AMT3    30000 non-null int64\n",
      "BILL_AMT4    30000 non-null int64\n",
      "BILL_AMT5    30000 non-null int64\n",
      "BILL_AMT6    30000 non-null int64\n",
      "PAY_AMT1     30000 non-null int64\n",
      "PAY_AMT2     30000 non-null int64\n",
      "PAY_AMT3     30000 non-null int64\n",
      "PAY_AMT4     30000 non-null int64\n",
      "PAY_AMT5     30000 non-null int64\n",
      "PAY_AMT6     30000 non-null int64\n",
      "DEFAULT      30000 non-null int64\n",
      "dtypes: int64(25)\n",
      "memory usage: 5.7 MB\n"
     ]
    }
   ],
   "source": [
    "#Examine the structure of the data set \n",
    "rawData.info()"
   ]
  },
  {
   "cell_type": "code",
   "execution_count": 19,
   "metadata": {},
   "outputs": [],
   "source": [
    "#import seaborn for EDA plot\n",
    "import seaborn as sns"
   ]
  },
  {
   "cell_type": "code",
   "execution_count": 20,
   "metadata": {},
   "outputs": [
    {
     "data": {
      "image/png": "[encoded data removed]",
      "text/plain": [
       "<matplotlib.figure.Figure at 0x1e9f1dcd828>"
      ]
     },
     "metadata": {},
     "output_type": "display_data"
    }
   ],
   "source": [
    "#Instead of group by use seaborn to plot EDUCATION LEVELS BY SEX\n",
    "fg = sns.factorplot('SEX', data=rawData, kind='count', aspect=1.5)"
   ]
  },
  {
   "cell_type": "code",
   "execution_count": 21,
   "metadata": {},
   "outputs": [
    {
     "name": "stderr",
     "output_type": "stream",
     "text": [
      "C:\\Users\\User\\Anaconda3\\lib\\site-packages\\seaborn\\categorical.py:1516: FutureWarning: elementwise comparison failed; returning scalar instead, but in the future will perform elementwise comparison\n",
      "  hue_mask = self.plot_hues[i] == hue_level\n"
     ]
    },
    {
     "data": {
      "text/plain": [
       "<seaborn.axisgrid.FacetGrid at 0x1e9f1d26fd0>"
      ]
     },
     "execution_count": 21,
     "metadata": {},
     "output_type": "execute_result"
    },
    {
     "data": {
      "image/png": "[encoded data removed]",
      "text/plain": [
       "<matplotlib.figure.Figure at 0x1e9f1e1d940>"
      ]
     },
     "metadata": {},
     "output_type": "display_data"
    }
   ],
   "source": [
    "#Lets do a factorplot of clients splitted into SEX, EDUCATION and MARRIAGE\n",
    "sns.factorplot('EDUCATION', data=rawData, kind='count', hue='SEX', order=[1,2,3], \n",
    "               hue_order=['male','female','other'], aspect=2)"
   ]
  },
  {
   "cell_type": "code",
   "execution_count": 22,
   "metadata": {},
   "outputs": [
    {
     "data": {
      "text/plain": [
       "<seaborn.axisgrid.FacetGrid at 0x1e9f1dea588>"
      ]
     },
     "execution_count": 22,
     "metadata": {},
     "output_type": "execute_result"
    },
    {
     "data": {
      "image/png": "[encoded data removed]",
      "text/plain": [
       "<matplotlib.figure.Figure at 0x1e9f1e10d30>"
      ]
     },
     "metadata": {},
     "output_type": "display_data"
    }
   ],
   "source": [
    "#another version of sns.kdeplot\n",
    "fig = sns.FacetGrid(rawData, hue='SEX', aspect=4)\n",
    "fig.map(sns.kdeplot, 'AGE', shade=True)\n",
    "oldest = rawData['AGE'].max()\n",
    "fig.set(xlim=(0,oldest))\n",
    "fig.add_legend()"
   ]
  },
  {
   "cell_type": "code",
   "execution_count": 23,
   "metadata": {},
   "outputs": [
    {
     "name": "stdout",
     "output_type": "stream",
     "text": [
      "Summary of feature sample\n"
     ]
    },
    {
     "data": {
      "text/html": [
       "<div>\n",
       "<style scoped>\n",
       "    .dataframe tbody tr th:only-of-type {\n",
       "        vertical-align: middle;\n",
       "    }\n",
       "\n",
       "    .dataframe tbody tr th {\n",
       "        vertical-align: top;\n",
       "    }\n",
       "\n",
       "    .dataframe thead th {\n",
       "        text-align: right;\n",
       "    }\n",
       "</style>\n",
       "<table border=\"1\" class=\"dataframe\">\n",
       "  <thead>\n",
       "    <tr style=\"text-align: right;\">\n",
       "      <th></th>\n",
       "      <th>LIMIT_BAL</th>\n",
       "      <th>SEX</th>\n",
       "      <th>EDUCATION</th>\n",
       "      <th>MARRIAGE</th>\n",
       "      <th>AGE</th>\n",
       "      <th>PAY_0</th>\n",
       "      <th>PAY_2</th>\n",
       "      <th>PAY_3</th>\n",
       "      <th>PAY_4</th>\n",
       "      <th>PAY_5</th>\n",
       "      <th>...</th>\n",
       "      <th>BILL_AMT3</th>\n",
       "      <th>BILL_AMT4</th>\n",
       "      <th>BILL_AMT5</th>\n",
       "      <th>BILL_AMT6</th>\n",
       "      <th>PAY_AMT1</th>\n",
       "      <th>PAY_AMT2</th>\n",
       "      <th>PAY_AMT3</th>\n",
       "      <th>PAY_AMT4</th>\n",
       "      <th>PAY_AMT5</th>\n",
       "      <th>PAY_AMT6</th>\n",
       "    </tr>\n",
       "  </thead>\n",
       "  <tbody>\n",
       "    <tr>\n",
       "      <th>0</th>\n",
       "      <td>20000</td>\n",
       "      <td>2</td>\n",
       "      <td>2</td>\n",
       "      <td>1</td>\n",
       "      <td>24</td>\n",
       "      <td>2</td>\n",
       "      <td>2</td>\n",
       "      <td>-1</td>\n",
       "      <td>-1</td>\n",
       "      <td>-2</td>\n",
       "      <td>...</td>\n",
       "      <td>689</td>\n",
       "      <td>0</td>\n",
       "      <td>0</td>\n",
       "      <td>0</td>\n",
       "      <td>0</td>\n",
       "      <td>689</td>\n",
       "      <td>0</td>\n",
       "      <td>0</td>\n",
       "      <td>0</td>\n",
       "      <td>0</td>\n",
       "    </tr>\n",
       "    <tr>\n",
       "      <th>1</th>\n",
       "      <td>120000</td>\n",
       "      <td>2</td>\n",
       "      <td>2</td>\n",
       "      <td>2</td>\n",
       "      <td>26</td>\n",
       "      <td>-1</td>\n",
       "      <td>2</td>\n",
       "      <td>0</td>\n",
       "      <td>0</td>\n",
       "      <td>0</td>\n",
       "      <td>...</td>\n",
       "      <td>2682</td>\n",
       "      <td>3272</td>\n",
       "      <td>3455</td>\n",
       "      <td>3261</td>\n",
       "      <td>0</td>\n",
       "      <td>1000</td>\n",
       "      <td>1000</td>\n",
       "      <td>1000</td>\n",
       "      <td>0</td>\n",
       "      <td>2000</td>\n",
       "    </tr>\n",
       "    <tr>\n",
       "      <th>2</th>\n",
       "      <td>90000</td>\n",
       "      <td>2</td>\n",
       "      <td>2</td>\n",
       "      <td>2</td>\n",
       "      <td>34</td>\n",
       "      <td>0</td>\n",
       "      <td>0</td>\n",
       "      <td>0</td>\n",
       "      <td>0</td>\n",
       "      <td>0</td>\n",
       "      <td>...</td>\n",
       "      <td>13559</td>\n",
       "      <td>14331</td>\n",
       "      <td>14948</td>\n",
       "      <td>15549</td>\n",
       "      <td>1518</td>\n",
       "      <td>1500</td>\n",
       "      <td>1000</td>\n",
       "      <td>1000</td>\n",
       "      <td>1000</td>\n",
       "      <td>5000</td>\n",
       "    </tr>\n",
       "    <tr>\n",
       "      <th>3</th>\n",
       "      <td>50000</td>\n",
       "      <td>2</td>\n",
       "      <td>2</td>\n",
       "      <td>1</td>\n",
       "      <td>37</td>\n",
       "      <td>0</td>\n",
       "      <td>0</td>\n",
       "      <td>0</td>\n",
       "      <td>0</td>\n",
       "      <td>0</td>\n",
       "      <td>...</td>\n",
       "      <td>49291</td>\n",
       "      <td>28314</td>\n",
       "      <td>28959</td>\n",
       "      <td>29547</td>\n",
       "      <td>2000</td>\n",
       "      <td>2019</td>\n",
       "      <td>1200</td>\n",
       "      <td>1100</td>\n",
       "      <td>1069</td>\n",
       "      <td>1000</td>\n",
       "    </tr>\n",
       "    <tr>\n",
       "      <th>4</th>\n",
       "      <td>50000</td>\n",
       "      <td>1</td>\n",
       "      <td>2</td>\n",
       "      <td>1</td>\n",
       "      <td>57</td>\n",
       "      <td>-1</td>\n",
       "      <td>0</td>\n",
       "      <td>-1</td>\n",
       "      <td>0</td>\n",
       "      <td>0</td>\n",
       "      <td>...</td>\n",
       "      <td>35835</td>\n",
       "      <td>20940</td>\n",
       "      <td>19146</td>\n",
       "      <td>19131</td>\n",
       "      <td>2000</td>\n",
       "      <td>36681</td>\n",
       "      <td>10000</td>\n",
       "      <td>9000</td>\n",
       "      <td>689</td>\n",
       "      <td>679</td>\n",
       "    </tr>\n",
       "  </tbody>\n",
       "</table>\n",
       "<p>5 rows × 23 columns</p>\n",
       "</div>"
      ],
      "text/plain": [
       "   LIMIT_BAL  SEX  EDUCATION  MARRIAGE  AGE  PAY_0  PAY_2  PAY_3  PAY_4  \\\n",
       "0      20000    2          2         1   24      2      2     -1     -1   \n",
       "1     120000    2          2         2   26     -1      2      0      0   \n",
       "2      90000    2          2         2   34      0      0      0      0   \n",
       "3      50000    2          2         1   37      0      0      0      0   \n",
       "4      50000    1          2         1   57     -1      0     -1      0   \n",
       "\n",
       "   PAY_5    ...     BILL_AMT3  BILL_AMT4  BILL_AMT5  BILL_AMT6  PAY_AMT1  \\\n",
       "0     -2    ...           689          0          0          0         0   \n",
       "1      0    ...          2682       3272       3455       3261         0   \n",
       "2      0    ...         13559      14331      14948      15549      1518   \n",
       "3      0    ...         49291      28314      28959      29547      2000   \n",
       "4      0    ...         35835      20940      19146      19131      2000   \n",
       "\n",
       "   PAY_AMT2  PAY_AMT3  PAY_AMT4  PAY_AMT5  PAY_AMT6  \n",
       "0       689         0         0         0         0  \n",
       "1      1000      1000      1000         0      2000  \n",
       "2      1500      1000      1000      1000      5000  \n",
       "3      2019      1200      1100      1069      1000  \n",
       "4     36681     10000      9000       689       679  \n",
       "\n",
       "[5 rows x 23 columns]"
      ]
     },
     "execution_count": 23,
     "metadata": {},
     "output_type": "execute_result"
    }
   ],
   "source": [
    "#Select Features\n",
    "#features - start at 0 column\n",
    "features = rawData.iloc[:,1:24]\n",
    "print('Summary of feature sample')\n",
    "features.head()"
   ]
  },
  {
   "cell_type": "code",
   "execution_count": 24,
   "metadata": {},
   "outputs": [],
   "source": [
    "#Select the dependent variable - not needed with classification\n",
    "#dependent variable\n",
    "depVar = rawData['DEFAULT']"
   ]
  },
  {
   "cell_type": "code",
   "execution_count": 25,
   "metadata": {},
   "outputs": [
    {
     "data": {
      "text/plain": [
       "((21000, 23), (9000, 23))"
      ]
     },
     "execution_count": 25,
     "metadata": {},
     "output_type": "execute_result"
    }
   ],
   "source": [
    "#Set up a 70/30 train test split of the dataset using sklearn.cross_validation\n",
    "X_train, X_test, y_train, y_test = train_test_split(features,depVar,test_size=0.30,random_state=15)\n",
    "X_train.shape, X_test.shape"
   ]
  },
  {
   "cell_type": "code",
   "execution_count": 26,
   "metadata": {},
   "outputs": [],
   "source": [
    "#Establish variables that will be used for defining each classification model - correct svm to svm.SVC()\n",
    "#modelNN = NearestNeighbors()\n",
    "#modelTR = tree.DecisionTreeClassifier()\n",
    "#modelSVM = svm.SVC()\n",
    "#modelSGD = SGDClassifier()\n",
    "#modelGBC = GradientBoostingClassifier()"
   ]
  },
  {
   "cell_type": "code",
   "execution_count": 27,
   "metadata": {},
   "outputs": [
    {
     "name": "stdout",
     "output_type": "stream",
     "text": [
      "0        1\n",
      "1        1\n",
      "2        0\n",
      "3        0\n",
      "4        0\n",
      "5        0\n",
      "6        0\n",
      "7        0\n",
      "8        0\n",
      "9        0\n",
      "10       0\n",
      "11       0\n",
      "12       0\n",
      "13       1\n",
      "14       0\n",
      "15       0\n",
      "16       1\n",
      "17       0\n",
      "18       0\n",
      "19       0\n",
      "20       0\n",
      "21       1\n",
      "22       1\n",
      "23       1\n",
      "24       0\n",
      "25       0\n",
      "26       1\n",
      "27       0\n",
      "28       0\n",
      "29       0\n",
      "        ..\n",
      "29970    0\n",
      "29971    0\n",
      "29972    0\n",
      "29973    1\n",
      "29974    1\n",
      "29975    0\n",
      "29976    1\n",
      "29977    0\n",
      "29978    0\n",
      "29979    0\n",
      "29980    0\n",
      "29981    0\n",
      "29982    1\n",
      "29983    0\n",
      "29984    0\n",
      "29985    0\n",
      "29986    0\n",
      "29987    0\n",
      "29988    0\n",
      "29989    0\n",
      "29990    0\n",
      "29991    1\n",
      "29992    0\n",
      "29993    0\n",
      "29994    1\n",
      "29995    0\n",
      "29996    0\n",
      "29997    1\n",
      "29998    1\n",
      "29999    1\n",
      "Name: DEFAULT, Length: 30000, dtype: int64\n"
     ]
    }
   ],
   "source": [
    "#Validate the correct column is being used as the dependent variable\n",
    "#dependent variable\n",
    "print(depVar)"
   ]
  },
  {
   "cell_type": "code",
   "execution_count": 28,
   "metadata": {},
   "outputs": [],
   "source": [
    "#Cleaning and preprocessing the data\n",
    "#Feature Scaling\n",
    "from sklearn.preprocessing import StandardScaler\n",
    "sc = StandardScaler()\n",
    "X_train = sc.fit_transform(X_train)\n",
    "X_test = sc.transform(X_test)               "
   ]
  },
  {
   "cell_type": "code",
   "execution_count": 29,
   "metadata": {},
   "outputs": [],
   "source": [
    "#Applying PCA\n",
    "from sklearn.decomposition import PCA\n",
    "pca = PCA(n_components = 2)\n",
    "X_train = pca.fit_transform(X_train)\n",
    "X_test = pca.transform(X_test)\n",
    "explained_variance = pca.explained_variance_ratio_"
   ]
  },
  {
   "cell_type": "code",
   "execution_count": 30,
   "metadata": {},
   "outputs": [
    {
     "name": "stdout",
     "output_type": "stream",
     "text": [
      "[0.28441722 0.17908298]\n",
      "[[-2.96139304  0.94716697]\n",
      " [ 5.87082348 -2.12496547]\n",
      " [-2.8720252   1.84463091]\n",
      " ...\n",
      " [-3.00703311  1.24102995]\n",
      " [-1.0019458  -1.26037803]\n",
      " [ 0.02952988 -2.29933109]]\n"
     ]
    }
   ],
   "source": [
    "print(explained_variance)\n",
    "print(X_train)"
   ]
  },
  {
   "cell_type": "code",
   "execution_count": 17,
   "metadata": {},
   "outputs": [],
   "source": [
    "#PCA- \n",
    "#pca.fit(X_train)\n",
    "#PCA(copy=True, iterated_power='auto', n_components=23, random_state=None,\n",
    "#  svd_solver='full', tol=0.0, whiten=False)\n",
    "#print(pca.explained_variance_ratio_)  \n",
    "#print(pca.singular_values_)"
   ]
  },
  {
   "cell_type": "code",
   "execution_count": 31,
   "metadata": {},
   "outputs": [],
   "source": [
    "#Establish variables that will be used for defining each classification model - correct svm to svm.SVC()\n",
    "modelNN = NearestNeighbors()\n",
    "modelTR = tree.DecisionTreeClassifier()\n",
    "modelSVM = svm.SVC()\n",
    "modelSGD = SGDClassifier()\n",
    "modelGBC = GradientBoostingClassifier()"
   ]
  },
  {
   "cell_type": "code",
   "execution_count": 38,
   "metadata": {},
   "outputs": [
    {
     "data": {
      "text/plain": [
       "KNeighborsClassifier(algorithm='auto', leaf_size=30, metric='minkowski',\n",
       "           metric_params=None, n_jobs=1, n_neighbors=10, p=2,\n",
       "           weights='distance')"
      ]
     },
     "execution_count": 38,
     "metadata": {},
     "output_type": "execute_result"
    }
   ],
   "source": [
    "#TUNE Knn - Create and Fitting K-NN to the Training set\n",
    "from sklearn.neighbors import KNeighborsClassifier\n",
    "classifier = KNeighborsClassifier(n_neighbors = 10, weights = 'distance', metric = 'minkowski', p = 2)\n",
    "classifier.fit(X_train, y_train)"
   ]
  },
  {
   "cell_type": "code",
   "execution_count": 39,
   "metadata": {},
   "outputs": [],
   "source": [
    "# Predicting the Test set results\n",
    "y_pred = classifier.predict(X_test)"
   ]
  },
  {
   "cell_type": "code",
   "execution_count": 40,
   "metadata": {},
   "outputs": [],
   "source": [
    "# Making the Confusion Matrix\n",
    "from sklearn.metrics import confusion_matrix\n",
    "cm = confusion_matrix(y_test, y_pred)"
   ]
  },
  {
   "cell_type": "code",
   "execution_count": 41,
   "metadata": {},
   "outputs": [
    {
     "name": "stdout",
     "output_type": "stream",
     "text": [
      "[[6422  580]\n",
      " [1370  628]]\n"
     ]
    }
   ],
   "source": [
    "print(cm)"
   ]
  },
  {
   "cell_type": "code",
   "execution_count": 42,
   "metadata": {},
   "outputs": [
    {
     "name": "stdout",
     "output_type": "stream",
     "text": [
      "0.7833333333333333\n"
     ]
    }
   ],
   "source": [
    "from sklearn.metrics import accuracy_score\n",
    "# get the accuracy\n",
    "print(accuracy_score(y_test, y_pred))"
   ]
  },
  {
   "cell_type": "code",
   "execution_count": 43,
   "metadata": {},
   "outputs": [
    {
     "name": "stdout",
     "output_type": "stream",
     "text": [
      "0.26956662451379365\n"
     ]
    }
   ],
   "source": [
    "from sklearn.metrics import cohen_kappa_score\n",
    "#get kappa\n",
    "print(cohen_kappa_score(y_test, y_pred))"
   ]
  },
  {
   "cell_type": "code",
   "execution_count": 24,
   "metadata": {},
   "outputs": [
    {
     "data": {
      "image/png": "[encoded data removed]",
      "text/plain": [
       "<matplotlib.figure.Figure at 0x1b0213abc18>"
      ]
     },
     "metadata": {},
     "output_type": "display_data"
    }
   ],
   "source": [
    "#Visualising the Training set results\n",
    "from matplotlib.colors import ListedColormap\n",
    "X_set, y_set = X_train, y_train\n",
    "X1, X2 = np.meshgrid(np.arange(start = X_set[:, 0].min() - 1, stop = X_set[:, 0].max() + 1, step = 0.01),\n",
    "                     np.arange(start = X_set[:, 1].min() - 1, stop = X_set[:, 1].max() + 1, step = 0.01))\n",
    "plt.contourf(X1, X2, classifier.predict(np.array([X1.ravel(), X2.ravel()]).T).reshape(X1.shape),\n",
    "             alpha = 0.75, cmap = ListedColormap(('red', 'green')))\n",
    "plt.xlim(X1.min(), X1.max())\n",
    "plt.ylim(X2.min(), X2.max())\n",
    "for i, j in enumerate(np.unique(y_set)):\n",
    "    plt.scatter(X_set[y_set == j, 0], X_set[y_set == j, 1],\n",
    "                c = ListedColormap(('red', 'green'))(i), label = j)\n",
    "plt.title('K-NN (Training set)')\n",
    "plt.xlabel('Age')\n",
    "plt.ylabel('Estimated Salary')\n",
    "plt.legend()\n",
    "plt.show()"
   ]
  },
  {
   "cell_type": "code",
   "execution_count": 25,
   "metadata": {},
   "outputs": [
    {
     "data": {
      "image/png": "[encoded data removed]",
      "text/plain": [
       "<matplotlib.figure.Figure at 0x1b0217b39b0>"
      ]
     },
     "metadata": {},
     "output_type": "display_data"
    }
   ],
   "source": [
    "# Visualising the Test set results\n",
    "from matplotlib.colors import ListedColormap\n",
    "X_set, y_set = X_test, y_test\n",
    "X1, X2 = np.meshgrid(np.arange(start = X_set[:, 0].min() - 1, stop = X_set[:, 0].max() + 1, step = 0.01),\n",
    "                     np.arange(start = X_set[:, 1].min() - 1, stop = X_set[:, 1].max() + 1, step = 0.01))\n",
    "plt.contourf(X1, X2, classifier.predict(np.array([X1.ravel(), X2.ravel()]).T).reshape(X1.shape),\n",
    "             alpha = 0.75, cmap = ListedColormap(('red', 'green')))\n",
    "plt.xlim(X1.min(), X1.max())\n",
    "plt.ylim(X2.min(), X2.max())\n",
    "for i, j in enumerate(np.unique(y_set)):\n",
    "    plt.scatter(X_set[y_set == j, 0], X_set[y_set == j, 1],\n",
    "                c = ListedColormap(('red', 'green'))(i), label = j)\n",
    "plt.title('K-NN (Test set)')\n",
    "plt.xlabel('Age')\n",
    "plt.ylabel('Estimated Salary')\n",
    "plt.legend()\n",
    "plt.show()"
   ]
  },
  {
   "cell_type": "code",
   "execution_count": 26,
   "metadata": {},
   "outputs": [
    {
     "name": "stdout",
     "output_type": "stream",
     "text": [
      "                     ID     LIMIT_BAL          SEX     EDUCATION     MARRIAGE  \\\n",
      "ID         7.500250e+07  2.941664e+07    78.356379    238.909130  -131.452515   \n",
      "LIMIT_BAL  2.941664e+07  1.683446e+10  1571.050630 -22414.926600 -7323.669658   \n",
      "SEX        7.835638e+01  1.571051e+03     0.239247      0.005289    -0.008014   \n",
      "EDUCATION  2.389091e+02 -2.241493e+04     0.005289      0.553680    -0.058257   \n",
      "MARRIAGE  -1.314525e+02 -7.323670e+03    -0.008014     -0.058257     0.272452   \n",
      "AGE        1.491057e+03  1.730767e+05    -0.409726      1.245694    -1.992764   \n",
      "PAY_0     -2.975726e+02 -3.954593e+04    -0.031685      0.095105     0.011683   \n",
      "PAY_2     -1.162770e+02 -4.603765e+04    -0.041442      0.117221     0.015122   \n",
      "PAY_3     -1.916922e+02 -4.443225e+04    -0.038694      0.110511     0.020421   \n",
      "PAY_4     -2.769132e+01 -4.057181e+04    -0.034411      0.102618     0.020213   \n",
      "PAY_5     -2.178600e+02 -3.667056e+04    -0.030521      0.089317     0.021074   \n",
      "PAY_6     -2.018774e+02 -3.509308e+04    -0.024754      0.078176     0.020616   \n",
      "BILL_AMT1  1.236447e+07  2.727020e+09 -1211.694332    983.513529  -902.154685   \n",
      "BILL_AMT2  1.108392e+07  2.570130e+09 -1085.595467    707.829524  -802.517866   \n",
      "BILL_AMT3  1.462688e+07  2.548533e+09  -833.207432    401.689796  -901.679085   \n",
      "BILL_AMT4  2.248126e+07  2.453926e+09  -688.489572   -237.797205  -783.881599   \n",
      "BILL_AMT5  8.795803e+06  2.331481e+09  -505.694333   -501.588425  -805.840875   \n",
      "BILL_AMT6  8.628506e+06  2.243837e+09  -487.430160   -497.992440  -659.223347   \n",
      "PAY_AMT1   1.397501e+06  4.195711e+08    -1.964266   -507.194659   -51.691615   \n",
      "PAY_AMT2   1.677383e+06  5.333504e+08   -15.675500   -575.796965   -97.327974   \n",
      "PAY_AMT3   5.969803e+06  4.801180e+08   -74.034812   -587.327244   -32.546082   \n",
      "PAY_AMT4   1.057334e+06  4.131202e+08   -17.080110   -475.353677  -103.518204   \n",
      "PAY_AMT5   8.629502e+04  4.305657e+08   -12.458809   -509.217974    -9.607709   \n",
      "PAY_AMT6   4.618460e+05  5.065153e+08   -24.051885   -579.035525   -61.623271   \n",
      "DEFAULT   -5.015171e+01 -8.267552e+03    -0.008113      0.010871    -0.005273   \n",
      "\n",
      "                     AGE         PAY_0         PAY_2         PAY_3  \\\n",
      "ID           1491.057019   -297.572636   -116.276959   -191.692156   \n",
      "LIMIT_BAL  173076.722569 -39545.930009 -46037.648360 -44432.253315   \n",
      "SEX            -0.409726     -0.031685     -0.041442     -0.038694   \n",
      "EDUCATION       1.245694      0.095105      0.117221      0.110511   \n",
      "MARRIAGE       -1.992764      0.011683      0.015122      0.020421   \n",
      "AGE            84.969755     -0.408639     -0.553408     -0.585263   \n",
      "PAY_0          -0.408639      1.262930      0.904330      0.772384   \n",
      "PAY_2          -0.553408      0.904330      1.433254      1.098371   \n",
      "PAY_3          -0.585263      0.772384      1.098371      1.432492   \n",
      "PAY_4          -0.535851      0.707972      0.926680      1.087761   \n",
      "PAY_5          -0.562245      0.648743      0.844886      0.931455   \n",
      "PAY_6          -0.517022      0.613292      0.792320      0.870815   \n",
      "BILL_AMT1   38172.933546  15480.304170  20706.614217  18373.210469   \n",
      "BILL_AMT2   35613.657962  15185.916919  20045.829482  20214.071495   \n",
      "BILL_AMT3   34334.251320  14011.556537  18609.510991  18882.491544   \n",
      "BILL_AMT4   30453.108180  12950.248389  17116.298983  17494.100555   \n",
      "BILL_AMT5   27654.067800  12341.668685  16110.952468  16382.947539   \n",
      "BILL_AMT6   26137.648547  11844.759724  15642.875812  15847.089648   \n",
      "PAY_AMT1     3992.041735  -1475.495089  -1600.240756     25.668468   \n",
      "PAY_AMT2     4626.861549  -1815.138407  -1627.192336  -1841.952825   \n",
      "PAY_AMT3     4746.824393  -1396.168258  -1178.331282  -1123.428782   \n",
      "PAY_AMT4     3087.324192  -1126.847945   -878.843879   -863.762183   \n",
      "PAY_AMT5     3218.052172   -999.107730   -678.468530   -655.796002   \n",
      "PAY_AMT6     3191.903901  -1172.193614   -776.835035   -763.026041   \n",
      "DEFAULT         0.053143      0.151499      0.130960      0.116867   \n",
      "\n",
      "                  PAY_4     ...          BILL_AMT4     BILL_AMT5  \\\n",
      "ID           -27.691323     ...       2.248126e+07  8.795803e+06   \n",
      "LIMIT_BAL -40571.811859     ...       2.453926e+09  2.331481e+09   \n",
      "SEX           -0.034411     ...      -6.884896e+02 -5.056943e+02   \n",
      "EDUCATION      0.102618     ...      -2.377972e+02 -5.015884e+02   \n",
      "MARRIAGE       0.020213     ...      -7.838816e+02 -8.058409e+02   \n",
      "AGE           -0.535851     ...       3.045311e+04  2.765407e+04   \n",
      "PAY_0          0.707972     ...       1.295025e+04  1.234167e+04   \n",
      "PAY_2          0.926680     ...       1.711630e+04  1.611095e+04   \n",
      "PAY_3          1.087761     ...       1.749410e+04  1.638295e+04   \n",
      "PAY_4          1.366885     ...       1.849642e+04  1.726555e+04   \n",
      "PAY_5          1.086161     ...       1.982293e+04  1.858659e+04   \n",
      "PAY_6          0.963263     ...       1.970555e+04  2.033812e+04   \n",
      "BILL_AMT1  17460.198259     ...       4.075286e+09  3.714795e+09   \n",
      "BILL_AMT2  18790.627741     ...       4.086508e+09  3.720401e+09   \n",
      "BILL_AMT3  19862.999426     ...       4.122238e+09  3.726780e+09   \n",
      "BILL_AMT4  18496.423186     ...       4.138716e+09  3.677105e+09   \n",
      "BILL_AMT5  17265.551898     ...       3.677105e+09  3.696294e+09   \n",
      "BILL_AMT6  16651.586314     ...       3.451762e+09  3.425914e+09   \n",
      "PAY_AMT1    -181.295613     ...       2.482888e+08  2.185501e+08   \n",
      "PAY_AMT2     -52.358166     ...       3.076686e+08  2.538936e+08   \n",
      "PAY_AMT3   -1425.205189     ...       3.398374e+08  2.700805e+08   \n",
      "PAY_AMT4    -796.035739     ...       1.312133e+08  2.791830e+08   \n",
      "PAY_AMT5    -599.991629     ...       1.576892e+08  1.315051e+08   \n",
      "PAY_AMT6    -552.137338     ...       2.031590e+08  1.774537e+08   \n",
      "DEFAULT        0.105115     ...      -2.711999e+02 -1.705974e+02   \n",
      "\n",
      "              BILL_AMT6      PAY_AMT1      PAY_AMT2      PAY_AMT3  \\\n",
      "ID         8.628506e+06  1.397501e+06  1.677383e+06  5.969803e+06   \n",
      "LIMIT_BAL  2.243837e+09  4.195711e+08  5.333504e+08  4.801180e+08   \n",
      "SEX       -4.874302e+02 -1.964266e+00 -1.567550e+01 -7.403481e+01   \n",
      "EDUCATION -4.979924e+02 -5.071947e+02 -5.757970e+02 -5.873272e+02   \n",
      "MARRIAGE  -6.592233e+02 -5.169161e+01 -9.732797e+01 -3.254608e+01   \n",
      "AGE        2.613765e+04  3.992042e+03  4.626862e+03  4.746824e+03   \n",
      "PAY_0      1.184476e+04 -1.475495e+03 -1.815138e+03 -1.396168e+03   \n",
      "PAY_2      1.564288e+04 -1.600241e+03 -1.627192e+03 -1.178331e+03   \n",
      "PAY_3      1.584709e+04  2.566847e+01 -1.841953e+03 -1.123429e+03   \n",
      "PAY_4      1.665159e+04 -1.812956e+02 -5.235817e+01 -1.425205e+03   \n",
      "PAY_5      1.771569e+04 -1.142817e+02 -8.332449e+01  1.808121e+02   \n",
      "PAY_6      1.952488e+04 -2.850067e+01 -1.383995e+02  1.181210e+02   \n",
      "BILL_AMT1  3.519876e+09  1.710894e+08  1.685692e+08  2.034048e+08   \n",
      "BILL_AMT2  3.524868e+09  3.305146e+08  1.653859e+08  1.888731e+08   \n",
      "BILL_AMT3  3.524247e+09  2.806565e+08  5.064226e+08  1.587478e+08   \n",
      "BILL_AMT4  3.451762e+09  2.482888e+08  3.076686e+08  3.398374e+08   \n",
      "BILL_AMT5  3.425914e+09  2.185501e+08  2.538936e+08  2.700805e+08   \n",
      "BILL_AMT6  3.546692e+09  1.972478e+08  2.369244e+08  2.451233e+08   \n",
      "PAY_AMT1   1.972478e+08  2.743423e+08  1.089849e+08  7.354626e+07   \n",
      "PAY_AMT2   2.369244e+08  1.089849e+08  5.308817e+08  9.929841e+07   \n",
      "PAY_AMT3   2.451233e+08  7.354626e+07  9.929841e+07  3.100051e+08   \n",
      "PAY_AMT4   2.334670e+08  5.178189e+07  6.501168e+07  5.966970e+07   \n",
      "PAY_AMT5   2.799982e+08  3.756893e+07  6.368414e+07  4.282921e+07   \n",
      "PAY_AMT6   1.222761e+08  5.469033e+07  6.456816e+07  5.093879e+07   \n",
      "DEFAULT   -1.327963e+02 -5.013746e+02 -5.602107e+02 -4.110763e+02   \n",
      "\n",
      "               PAY_AMT4      PAY_AMT5      PAY_AMT6      DEFAULT  \n",
      "ID         1.057334e+06  8.629502e+04  4.618460e+05   -50.151705  \n",
      "LIMIT_BAL  4.131202e+08  4.305657e+08  5.065153e+08 -8267.551759  \n",
      "SEX       -1.708011e+01 -1.245881e+01 -2.405188e+01    -0.008113  \n",
      "EDUCATION -4.753537e+02 -5.092180e+02 -5.790355e+02     0.010871  \n",
      "MARRIAGE  -1.035182e+02 -9.607709e+00 -6.162327e+01    -0.005273  \n",
      "AGE        3.087324e+03  3.218052e+03  3.191904e+03     0.053143  \n",
      "PAY_0     -1.126848e+03 -9.991077e+02 -1.172194e+03     0.151499  \n",
      "PAY_2     -8.788439e+02 -6.784685e+02 -7.768350e+02     0.130960  \n",
      "PAY_3     -8.637622e+02 -6.557960e+02 -7.630260e+02     0.116867  \n",
      "PAY_4     -7.960357e+02 -5.999916e+02 -5.521373e+02     0.105115  \n",
      "PAY_5     -1.034962e+03 -5.771610e+02 -4.638926e+02     0.096020  \n",
      "PAY_6      3.426237e+02 -8.158327e+02 -5.172163e+02     0.089194  \n",
      "BILL_AMT1  1.826164e+08  1.879091e+08  2.347681e+08  -600.394108  \n",
      "BILL_AMT2  1.643518e+08  1.717652e+08  2.204845e+08  -419.289137  \n",
      "BILL_AMT3  1.558003e+08  1.904126e+08  2.247817e+08  -405.153680  \n",
      "BILL_AMT4  1.312133e+08  1.576892e+08  2.031590e+08  -271.199885  \n",
      "BILL_AMT5  2.791830e+08  1.315051e+08  1.774537e+08  -170.597447  \n",
      "BILL_AMT6  2.334670e+08  2.799982e+08  1.222761e+08  -132.796294  \n",
      "PAY_AMT1   5.178189e+07  3.756893e+07  5.469033e+07  -501.374552  \n",
      "PAY_AMT2   6.501168e+07  6.368414e+07  6.456816e+07  -560.210740  \n",
      "PAY_AMT3   5.966970e+07  4.282921e+07  5.093879e+07  -411.076284  \n",
      "PAY_AMT4   2.454286e+08  3.634098e+07  4.395747e+07  -369.515887  \n",
      "PAY_AMT5   3.634098e+07  2.334266e+08  4.207110e+07  -349.562530  \n",
      "PAY_AMT6   4.395747e+07  4.207110e+07  3.160383e+08  -392.426415  \n",
      "DEFAULT   -3.695159e+02 -3.495625e+02 -3.924264e+02     0.172276  \n",
      "\n",
      "[25 rows x 25 columns]\n"
     ]
    }
   ],
   "source": [
    "#Covariance Estimation \n",
    "covMat = rawData.cov()\n",
    "print(covMat)"
   ]
  },
  {
   "cell_type": "code",
   "execution_count": 49,
   "metadata": {},
   "outputs": [
    {
     "data": {
      "text/plain": [
       "DecisionTreeClassifier(class_weight=None, criterion='entropy', max_depth=None,\n",
       "            max_features=None, max_leaf_nodes=None,\n",
       "            min_impurity_decrease=0.0, min_impurity_split=None,\n",
       "            min_samples_leaf=3, min_samples_split=2,\n",
       "            min_weight_fraction_leaf=0.0, presort=False, random_state=0,\n",
       "            splitter='best')"
      ]
     },
     "execution_count": 49,
     "metadata": {},
     "output_type": "execute_result"
    }
   ],
   "source": [
    "#TUNE Decision Tree model Create Decision Tree Classification to the Training set\n",
    "from sklearn.tree import DecisionTreeClassifier\n",
    "classifier = DecisionTreeClassifier(criterion = 'entropy', min_samples_leaf = 3, splitter = 'best', random_state = 0)\n",
    "classifier.fit(X_train, y_train)"
   ]
  },
  {
   "cell_type": "code",
   "execution_count": 50,
   "metadata": {},
   "outputs": [],
   "source": [
    "# Predicting the Test set results\n",
    "y_pred = classifier.predict(X_test)"
   ]
  },
  {
   "cell_type": "code",
   "execution_count": 51,
   "metadata": {},
   "outputs": [
    {
     "name": "stdout",
     "output_type": "stream",
     "text": [
      "[[5831 1171]\n",
      " [1316  682]]\n"
     ]
    }
   ],
   "source": [
    "#Making the Confusion Matrix\n",
    "from sklearn.metrics import confusion_matrix\n",
    "cm = confusion_matrix(y_test, y_pred)\n",
    "print(cm)"
   ]
  },
  {
   "cell_type": "code",
   "execution_count": 52,
   "metadata": {},
   "outputs": [
    {
     "name": "stdout",
     "output_type": "stream",
     "text": [
      "0.7236666666666667\n"
     ]
    }
   ],
   "source": [
    "from sklearn.metrics import accuracy_score\n",
    "# get the accuracy\n",
    "print(accuracy_score(y_test, y_pred))"
   ]
  },
  {
   "cell_type": "code",
   "execution_count": 53,
   "metadata": {},
   "outputs": [
    {
     "name": "stdout",
     "output_type": "stream",
     "text": [
      "0.17873847360933715\n"
     ]
    }
   ],
   "source": [
    "from sklearn.metrics import cohen_kappa_score\n",
    "#get kappa\n",
    "print(cohen_kappa_score(y_test, y_pred))"
   ]
  },
  {
   "cell_type": "code",
   "execution_count": 32,
   "metadata": {},
   "outputs": [
    {
     "name": "stdout",
     "output_type": "stream",
     "text": [
      "                     ID     LIMIT_BAL          SEX     EDUCATION     MARRIAGE  \\\n",
      "ID         7.500250e+07  2.941664e+07    78.356379    238.909130  -131.452515   \n",
      "LIMIT_BAL  2.941664e+07  1.683446e+10  1571.050630 -22414.926600 -7323.669658   \n",
      "SEX        7.835638e+01  1.571051e+03     0.239247      0.005289    -0.008014   \n",
      "EDUCATION  2.389091e+02 -2.241493e+04     0.005289      0.553680    -0.058257   \n",
      "MARRIAGE  -1.314525e+02 -7.323670e+03    -0.008014     -0.058257     0.272452   \n",
      "AGE        1.491057e+03  1.730767e+05    -0.409726      1.245694    -1.992764   \n",
      "PAY_0     -2.975726e+02 -3.954593e+04    -0.031685      0.095105     0.011683   \n",
      "PAY_2     -1.162770e+02 -4.603765e+04    -0.041442      0.117221     0.015122   \n",
      "PAY_3     -1.916922e+02 -4.443225e+04    -0.038694      0.110511     0.020421   \n",
      "PAY_4     -2.769132e+01 -4.057181e+04    -0.034411      0.102618     0.020213   \n",
      "PAY_5     -2.178600e+02 -3.667056e+04    -0.030521      0.089317     0.021074   \n",
      "PAY_6     -2.018774e+02 -3.509308e+04    -0.024754      0.078176     0.020616   \n",
      "BILL_AMT1  1.236447e+07  2.727020e+09 -1211.694332    983.513529  -902.154685   \n",
      "BILL_AMT2  1.108392e+07  2.570130e+09 -1085.595467    707.829524  -802.517866   \n",
      "BILL_AMT3  1.462688e+07  2.548533e+09  -833.207432    401.689796  -901.679085   \n",
      "BILL_AMT4  2.248126e+07  2.453926e+09  -688.489572   -237.797205  -783.881599   \n",
      "BILL_AMT5  8.795803e+06  2.331481e+09  -505.694333   -501.588425  -805.840875   \n",
      "BILL_AMT6  8.628506e+06  2.243837e+09  -487.430160   -497.992440  -659.223347   \n",
      "PAY_AMT1   1.397501e+06  4.195711e+08    -1.964266   -507.194659   -51.691615   \n",
      "PAY_AMT2   1.677383e+06  5.333504e+08   -15.675500   -575.796965   -97.327974   \n",
      "PAY_AMT3   5.969803e+06  4.801180e+08   -74.034812   -587.327244   -32.546082   \n",
      "PAY_AMT4   1.057334e+06  4.131202e+08   -17.080110   -475.353677  -103.518204   \n",
      "PAY_AMT5   8.629502e+04  4.305657e+08   -12.458809   -509.217974    -9.607709   \n",
      "PAY_AMT6   4.618460e+05  5.065153e+08   -24.051885   -579.035525   -61.623271   \n",
      "DEFAULT   -5.015171e+01 -8.267552e+03    -0.008113      0.010871    -0.005273   \n",
      "\n",
      "                     AGE         PAY_0         PAY_2         PAY_3  \\\n",
      "ID           1491.057019   -297.572636   -116.276959   -191.692156   \n",
      "LIMIT_BAL  173076.722569 -39545.930009 -46037.648360 -44432.253315   \n",
      "SEX            -0.409726     -0.031685     -0.041442     -0.038694   \n",
      "EDUCATION       1.245694      0.095105      0.117221      0.110511   \n",
      "MARRIAGE       -1.992764      0.011683      0.015122      0.020421   \n",
      "AGE            84.969755     -0.408639     -0.553408     -0.585263   \n",
      "PAY_0          -0.408639      1.262930      0.904330      0.772384   \n",
      "PAY_2          -0.553408      0.904330      1.433254      1.098371   \n",
      "PAY_3          -0.585263      0.772384      1.098371      1.432492   \n",
      "PAY_4          -0.535851      0.707972      0.926680      1.087761   \n",
      "PAY_5          -0.562245      0.648743      0.844886      0.931455   \n",
      "PAY_6          -0.517022      0.613292      0.792320      0.870815   \n",
      "BILL_AMT1   38172.933546  15480.304170  20706.614217  18373.210469   \n",
      "BILL_AMT2   35613.657962  15185.916919  20045.829482  20214.071495   \n",
      "BILL_AMT3   34334.251320  14011.556537  18609.510991  18882.491544   \n",
      "BILL_AMT4   30453.108180  12950.248389  17116.298983  17494.100555   \n",
      "BILL_AMT5   27654.067800  12341.668685  16110.952468  16382.947539   \n",
      "BILL_AMT6   26137.648547  11844.759724  15642.875812  15847.089648   \n",
      "PAY_AMT1     3992.041735  -1475.495089  -1600.240756     25.668468   \n",
      "PAY_AMT2     4626.861549  -1815.138407  -1627.192336  -1841.952825   \n",
      "PAY_AMT3     4746.824393  -1396.168258  -1178.331282  -1123.428782   \n",
      "PAY_AMT4     3087.324192  -1126.847945   -878.843879   -863.762183   \n",
      "PAY_AMT5     3218.052172   -999.107730   -678.468530   -655.796002   \n",
      "PAY_AMT6     3191.903901  -1172.193614   -776.835035   -763.026041   \n",
      "DEFAULT         0.053143      0.151499      0.130960      0.116867   \n",
      "\n",
      "                  PAY_4     ...          BILL_AMT4     BILL_AMT5  \\\n",
      "ID           -27.691323     ...       2.248126e+07  8.795803e+06   \n",
      "LIMIT_BAL -40571.811859     ...       2.453926e+09  2.331481e+09   \n",
      "SEX           -0.034411     ...      -6.884896e+02 -5.056943e+02   \n",
      "EDUCATION      0.102618     ...      -2.377972e+02 -5.015884e+02   \n",
      "MARRIAGE       0.020213     ...      -7.838816e+02 -8.058409e+02   \n",
      "AGE           -0.535851     ...       3.045311e+04  2.765407e+04   \n",
      "PAY_0          0.707972     ...       1.295025e+04  1.234167e+04   \n",
      "PAY_2          0.926680     ...       1.711630e+04  1.611095e+04   \n",
      "PAY_3          1.087761     ...       1.749410e+04  1.638295e+04   \n",
      "PAY_4          1.366885     ...       1.849642e+04  1.726555e+04   \n",
      "PAY_5          1.086161     ...       1.982293e+04  1.858659e+04   \n",
      "PAY_6          0.963263     ...       1.970555e+04  2.033812e+04   \n",
      "BILL_AMT1  17460.198259     ...       4.075286e+09  3.714795e+09   \n",
      "BILL_AMT2  18790.627741     ...       4.086508e+09  3.720401e+09   \n",
      "BILL_AMT3  19862.999426     ...       4.122238e+09  3.726780e+09   \n",
      "BILL_AMT4  18496.423186     ...       4.138716e+09  3.677105e+09   \n",
      "BILL_AMT5  17265.551898     ...       3.677105e+09  3.696294e+09   \n",
      "BILL_AMT6  16651.586314     ...       3.451762e+09  3.425914e+09   \n",
      "PAY_AMT1    -181.295613     ...       2.482888e+08  2.185501e+08   \n",
      "PAY_AMT2     -52.358166     ...       3.076686e+08  2.538936e+08   \n",
      "PAY_AMT3   -1425.205189     ...       3.398374e+08  2.700805e+08   \n",
      "PAY_AMT4    -796.035739     ...       1.312133e+08  2.791830e+08   \n",
      "PAY_AMT5    -599.991629     ...       1.576892e+08  1.315051e+08   \n",
      "PAY_AMT6    -552.137338     ...       2.031590e+08  1.774537e+08   \n",
      "DEFAULT        0.105115     ...      -2.711999e+02 -1.705974e+02   \n",
      "\n",
      "              BILL_AMT6      PAY_AMT1      PAY_AMT2      PAY_AMT3  \\\n",
      "ID         8.628506e+06  1.397501e+06  1.677383e+06  5.969803e+06   \n",
      "LIMIT_BAL  2.243837e+09  4.195711e+08  5.333504e+08  4.801180e+08   \n",
      "SEX       -4.874302e+02 -1.964266e+00 -1.567550e+01 -7.403481e+01   \n",
      "EDUCATION -4.979924e+02 -5.071947e+02 -5.757970e+02 -5.873272e+02   \n",
      "MARRIAGE  -6.592233e+02 -5.169161e+01 -9.732797e+01 -3.254608e+01   \n",
      "AGE        2.613765e+04  3.992042e+03  4.626862e+03  4.746824e+03   \n",
      "PAY_0      1.184476e+04 -1.475495e+03 -1.815138e+03 -1.396168e+03   \n",
      "PAY_2      1.564288e+04 -1.600241e+03 -1.627192e+03 -1.178331e+03   \n",
      "PAY_3      1.584709e+04  2.566847e+01 -1.841953e+03 -1.123429e+03   \n",
      "PAY_4      1.665159e+04 -1.812956e+02 -5.235817e+01 -1.425205e+03   \n",
      "PAY_5      1.771569e+04 -1.142817e+02 -8.332449e+01  1.808121e+02   \n",
      "PAY_6      1.952488e+04 -2.850067e+01 -1.383995e+02  1.181210e+02   \n",
      "BILL_AMT1  3.519876e+09  1.710894e+08  1.685692e+08  2.034048e+08   \n",
      "BILL_AMT2  3.524868e+09  3.305146e+08  1.653859e+08  1.888731e+08   \n",
      "BILL_AMT3  3.524247e+09  2.806565e+08  5.064226e+08  1.587478e+08   \n",
      "BILL_AMT4  3.451762e+09  2.482888e+08  3.076686e+08  3.398374e+08   \n",
      "BILL_AMT5  3.425914e+09  2.185501e+08  2.538936e+08  2.700805e+08   \n",
      "BILL_AMT6  3.546692e+09  1.972478e+08  2.369244e+08  2.451233e+08   \n",
      "PAY_AMT1   1.972478e+08  2.743423e+08  1.089849e+08  7.354626e+07   \n",
      "PAY_AMT2   2.369244e+08  1.089849e+08  5.308817e+08  9.929841e+07   \n",
      "PAY_AMT3   2.451233e+08  7.354626e+07  9.929841e+07  3.100051e+08   \n",
      "PAY_AMT4   2.334670e+08  5.178189e+07  6.501168e+07  5.966970e+07   \n",
      "PAY_AMT5   2.799982e+08  3.756893e+07  6.368414e+07  4.282921e+07   \n",
      "PAY_AMT6   1.222761e+08  5.469033e+07  6.456816e+07  5.093879e+07   \n",
      "DEFAULT   -1.327963e+02 -5.013746e+02 -5.602107e+02 -4.110763e+02   \n",
      "\n",
      "               PAY_AMT4      PAY_AMT5      PAY_AMT6      DEFAULT  \n",
      "ID         1.057334e+06  8.629502e+04  4.618460e+05   -50.151705  \n",
      "LIMIT_BAL  4.131202e+08  4.305657e+08  5.065153e+08 -8267.551759  \n",
      "SEX       -1.708011e+01 -1.245881e+01 -2.405188e+01    -0.008113  \n",
      "EDUCATION -4.753537e+02 -5.092180e+02 -5.790355e+02     0.010871  \n",
      "MARRIAGE  -1.035182e+02 -9.607709e+00 -6.162327e+01    -0.005273  \n",
      "AGE        3.087324e+03  3.218052e+03  3.191904e+03     0.053143  \n",
      "PAY_0     -1.126848e+03 -9.991077e+02 -1.172194e+03     0.151499  \n",
      "PAY_2     -8.788439e+02 -6.784685e+02 -7.768350e+02     0.130960  \n",
      "PAY_3     -8.637622e+02 -6.557960e+02 -7.630260e+02     0.116867  \n",
      "PAY_4     -7.960357e+02 -5.999916e+02 -5.521373e+02     0.105115  \n",
      "PAY_5     -1.034962e+03 -5.771610e+02 -4.638926e+02     0.096020  \n",
      "PAY_6      3.426237e+02 -8.158327e+02 -5.172163e+02     0.089194  \n",
      "BILL_AMT1  1.826164e+08  1.879091e+08  2.347681e+08  -600.394108  \n",
      "BILL_AMT2  1.643518e+08  1.717652e+08  2.204845e+08  -419.289137  \n",
      "BILL_AMT3  1.558003e+08  1.904126e+08  2.247817e+08  -405.153680  \n",
      "BILL_AMT4  1.312133e+08  1.576892e+08  2.031590e+08  -271.199885  \n",
      "BILL_AMT5  2.791830e+08  1.315051e+08  1.774537e+08  -170.597447  \n",
      "BILL_AMT6  2.334670e+08  2.799982e+08  1.222761e+08  -132.796294  \n",
      "PAY_AMT1   5.178189e+07  3.756893e+07  5.469033e+07  -501.374552  \n",
      "PAY_AMT2   6.501168e+07  6.368414e+07  6.456816e+07  -560.210740  \n",
      "PAY_AMT3   5.966970e+07  4.282921e+07  5.093879e+07  -411.076284  \n",
      "PAY_AMT4   2.454286e+08  3.634098e+07  4.395747e+07  -369.515887  \n",
      "PAY_AMT5   3.634098e+07  2.334266e+08  4.207110e+07  -349.562530  \n",
      "PAY_AMT6   4.395747e+07  4.207110e+07  3.160383e+08  -392.426415  \n",
      "DEFAULT   -3.695159e+02 -3.495625e+02 -3.924264e+02     0.172276  \n",
      "\n",
      "[25 rows x 25 columns]\n"
     ]
    }
   ],
   "source": [
    "#Covariance Estimation \n",
    "covMat = rawData.cov()\n",
    "print(covMat)"
   ]
  },
  {
   "cell_type": "code",
   "execution_count": 35,
   "metadata": {},
   "outputs": [
    {
     "data": {
      "image/png": "[encoded data removed]",
      "text/plain": [
       "<matplotlib.figure.Figure at 0x185c2482630>"
      ]
     },
     "metadata": {},
     "output_type": "display_data"
    }
   ],
   "source": [
    "#Visualising the Training set results\n",
    "from matplotlib.colors import ListedColormap\n",
    "X_set, y_set = X_train, y_train\n",
    "X1, X2 = np.meshgrid(np.arange(start = X_set[:, 0].min() - 1, stop = X_set[:, 0].max() + 1, step = 0.01),\n",
    "                     np.arange(start = X_set[:, 1].min() - 1, stop = X_set[:, 1].max() + 1, step = 0.01))\n",
    "plt.contourf(X1, X2, classifier.predict(np.array([X1.ravel(), X2.ravel()]).T).reshape(X1.shape),\n",
    "             alpha = 0.75, cmap = ListedColormap(('red', 'green')))\n",
    "plt.xlim(X1.min(), X1.max())\n",
    "plt.ylim(X2.min(), X2.max())\n",
    "for i, j in enumerate(np.unique(y_set)):\n",
    "    plt.scatter(X_set[y_set == j, 0], X_set[y_set == j, 1],\n",
    "                c = ListedColormap(('red', 'green'))(i), label = j)\n",
    "plt.title('Decision Tree Classification (Training set)')\n",
    "plt.xlabel('Age')\n",
    "plt.ylabel('Estimated Salary')\n",
    "plt.legend()\n",
    "plt.show()"
   ]
  },
  {
   "cell_type": "code",
   "execution_count": 36,
   "metadata": {},
   "outputs": [
    {
     "data": {
      "image/png": "[encoded data removed]",
      "text/plain": [
       "<matplotlib.figure.Figure at 0x185802659e8>"
      ]
     },
     "metadata": {},
     "output_type": "display_data"
    }
   ],
   "source": [
    "#Visualising the Test set results\n",
    "from matplotlib.colors import ListedColormap\n",
    "X_set, y_set = X_test, y_test\n",
    "X1, X2 = np.meshgrid(np.arange(start = X_set[:, 0].min() - 1, stop = X_set[:, 0].max() + 1, step = 0.01),\n",
    "                     np.arange(start = X_set[:, 1].min() - 1, stop = X_set[:, 1].max() + 1, step = 0.01))\n",
    "plt.contourf(X1, X2, classifier.predict(np.array([X1.ravel(), X2.ravel()]).T).reshape(X1.shape),\n",
    "             alpha = 0.75, cmap = ListedColormap(('red', 'green')))\n",
    "plt.xlim(X1.min(), X1.max())\n",
    "plt.ylim(X2.min(), X2.max())\n",
    "for i, j in enumerate(np.unique(y_set)):\n",
    "    plt.scatter(X_set[y_set == j, 0], X_set[y_set == j, 1],\n",
    "                c = ListedColormap(('red', 'green'))(i), label = j)\n",
    "plt.title('Decision Tree Classification (Test set)')\n",
    "plt.xlabel('Age')\n",
    "plt.ylabel('Estimated Salary')\n",
    "plt.legend()\n",
    "plt.show()"
   ]
  },
  {
   "cell_type": "code",
   "execution_count": 54,
   "metadata": {},
   "outputs": [
    {
     "data": {
      "text/plain": [
       "SVC(C=1.0, cache_size=200, class_weight=None, coef0=0.0,\n",
       "  decision_function_shape='ovr', degree=3, gamma='auto', kernel='linear',\n",
       "  max_iter=-1, probability=False, random_state=0, shrinking=True,\n",
       "  tol=0.001, verbose=False)"
      ]
     },
     "execution_count": 54,
     "metadata": {},
     "output_type": "execute_result"
    }
   ],
   "source": [
    "#Tune SVM Model Create SVM Classification to the Training set\n",
    "#Fitting SVM to the Training set\n",
    "from sklearn.svm import SVC\n",
    "classifier = SVC(kernel = 'linear', degree = 3, gamma = 'auto', random_state = 0)\n",
    "classifier.fit(X_train, y_train)"
   ]
  },
  {
   "cell_type": "code",
   "execution_count": 55,
   "metadata": {},
   "outputs": [],
   "source": [
    "#Predicting the Test set results\n",
    "y_pred = classifier.predict(X_test)"
   ]
  },
  {
   "cell_type": "code",
   "execution_count": 56,
   "metadata": {},
   "outputs": [
    {
     "name": "stdout",
     "output_type": "stream",
     "text": [
      "[[7002    0]\n",
      " [1998    0]]\n"
     ]
    }
   ],
   "source": [
    "#Making the Confusion Matrix\n",
    "from sklearn.metrics import confusion_matrix\n",
    "cm = confusion_matrix(y_test, y_pred)\n",
    "print(cm)"
   ]
  },
  {
   "cell_type": "code",
   "execution_count": 57,
   "metadata": {},
   "outputs": [
    {
     "name": "stdout",
     "output_type": "stream",
     "text": [
      "0.778\n"
     ]
    }
   ],
   "source": [
    "from sklearn.metrics import accuracy_score\n",
    "# get the accuracy\n",
    "print(accuracy_score(y_test, y_pred))"
   ]
  },
  {
   "cell_type": "code",
   "execution_count": 58,
   "metadata": {},
   "outputs": [
    {
     "name": "stdout",
     "output_type": "stream",
     "text": [
      "0.0\n"
     ]
    }
   ],
   "source": [
    "from sklearn.metrics import cohen_kappa_score\n",
    "#get kappa\n",
    "print(cohen_kappa_score(y_test, y_pred))"
   ]
  },
  {
   "cell_type": "code",
   "execution_count": 38,
   "metadata": {},
   "outputs": [
    {
     "name": "stdout",
     "output_type": "stream",
     "text": [
      "                     ID     LIMIT_BAL          SEX     EDUCATION     MARRIAGE  \\\n",
      "ID         7.500250e+07  2.941664e+07    78.356379    238.909130  -131.452515   \n",
      "LIMIT_BAL  2.941664e+07  1.683446e+10  1571.050630 -22414.926600 -7323.669658   \n",
      "SEX        7.835638e+01  1.571051e+03     0.239247      0.005289    -0.008014   \n",
      "EDUCATION  2.389091e+02 -2.241493e+04     0.005289      0.553680    -0.058257   \n",
      "MARRIAGE  -1.314525e+02 -7.323670e+03    -0.008014     -0.058257     0.272452   \n",
      "AGE        1.491057e+03  1.730767e+05    -0.409726      1.245694    -1.992764   \n",
      "PAY_0     -2.975726e+02 -3.954593e+04    -0.031685      0.095105     0.011683   \n",
      "PAY_2     -1.162770e+02 -4.603765e+04    -0.041442      0.117221     0.015122   \n",
      "PAY_3     -1.916922e+02 -4.443225e+04    -0.038694      0.110511     0.020421   \n",
      "PAY_4     -2.769132e+01 -4.057181e+04    -0.034411      0.102618     0.020213   \n",
      "PAY_5     -2.178600e+02 -3.667056e+04    -0.030521      0.089317     0.021074   \n",
      "PAY_6     -2.018774e+02 -3.509308e+04    -0.024754      0.078176     0.020616   \n",
      "BILL_AMT1  1.236447e+07  2.727020e+09 -1211.694332    983.513529  -902.154685   \n",
      "BILL_AMT2  1.108392e+07  2.570130e+09 -1085.595467    707.829524  -802.517866   \n",
      "BILL_AMT3  1.462688e+07  2.548533e+09  -833.207432    401.689796  -901.679085   \n",
      "BILL_AMT4  2.248126e+07  2.453926e+09  -688.489572   -237.797205  -783.881599   \n",
      "BILL_AMT5  8.795803e+06  2.331481e+09  -505.694333   -501.588425  -805.840875   \n",
      "BILL_AMT6  8.628506e+06  2.243837e+09  -487.430160   -497.992440  -659.223347   \n",
      "PAY_AMT1   1.397501e+06  4.195711e+08    -1.964266   -507.194659   -51.691615   \n",
      "PAY_AMT2   1.677383e+06  5.333504e+08   -15.675500   -575.796965   -97.327974   \n",
      "PAY_AMT3   5.969803e+06  4.801180e+08   -74.034812   -587.327244   -32.546082   \n",
      "PAY_AMT4   1.057334e+06  4.131202e+08   -17.080110   -475.353677  -103.518204   \n",
      "PAY_AMT5   8.629502e+04  4.305657e+08   -12.458809   -509.217974    -9.607709   \n",
      "PAY_AMT6   4.618460e+05  5.065153e+08   -24.051885   -579.035525   -61.623271   \n",
      "DEFAULT   -5.015171e+01 -8.267552e+03    -0.008113      0.010871    -0.005273   \n",
      "\n",
      "                     AGE         PAY_0         PAY_2         PAY_3  \\\n",
      "ID           1491.057019   -297.572636   -116.276959   -191.692156   \n",
      "LIMIT_BAL  173076.722569 -39545.930009 -46037.648360 -44432.253315   \n",
      "SEX            -0.409726     -0.031685     -0.041442     -0.038694   \n",
      "EDUCATION       1.245694      0.095105      0.117221      0.110511   \n",
      "MARRIAGE       -1.992764      0.011683      0.015122      0.020421   \n",
      "AGE            84.969755     -0.408639     -0.553408     -0.585263   \n",
      "PAY_0          -0.408639      1.262930      0.904330      0.772384   \n",
      "PAY_2          -0.553408      0.904330      1.433254      1.098371   \n",
      "PAY_3          -0.585263      0.772384      1.098371      1.432492   \n",
      "PAY_4          -0.535851      0.707972      0.926680      1.087761   \n",
      "PAY_5          -0.562245      0.648743      0.844886      0.931455   \n",
      "PAY_6          -0.517022      0.613292      0.792320      0.870815   \n",
      "BILL_AMT1   38172.933546  15480.304170  20706.614217  18373.210469   \n",
      "BILL_AMT2   35613.657962  15185.916919  20045.829482  20214.071495   \n",
      "BILL_AMT3   34334.251320  14011.556537  18609.510991  18882.491544   \n",
      "BILL_AMT4   30453.108180  12950.248389  17116.298983  17494.100555   \n",
      "BILL_AMT5   27654.067800  12341.668685  16110.952468  16382.947539   \n",
      "BILL_AMT6   26137.648547  11844.759724  15642.875812  15847.089648   \n",
      "PAY_AMT1     3992.041735  -1475.495089  -1600.240756     25.668468   \n",
      "PAY_AMT2     4626.861549  -1815.138407  -1627.192336  -1841.952825   \n",
      "PAY_AMT3     4746.824393  -1396.168258  -1178.331282  -1123.428782   \n",
      "PAY_AMT4     3087.324192  -1126.847945   -878.843879   -863.762183   \n",
      "PAY_AMT5     3218.052172   -999.107730   -678.468530   -655.796002   \n",
      "PAY_AMT6     3191.903901  -1172.193614   -776.835035   -763.026041   \n",
      "DEFAULT         0.053143      0.151499      0.130960      0.116867   \n",
      "\n",
      "                  PAY_4     ...          BILL_AMT4     BILL_AMT5  \\\n",
      "ID           -27.691323     ...       2.248126e+07  8.795803e+06   \n",
      "LIMIT_BAL -40571.811859     ...       2.453926e+09  2.331481e+09   \n",
      "SEX           -0.034411     ...      -6.884896e+02 -5.056943e+02   \n",
      "EDUCATION      0.102618     ...      -2.377972e+02 -5.015884e+02   \n",
      "MARRIAGE       0.020213     ...      -7.838816e+02 -8.058409e+02   \n",
      "AGE           -0.535851     ...       3.045311e+04  2.765407e+04   \n",
      "PAY_0          0.707972     ...       1.295025e+04  1.234167e+04   \n",
      "PAY_2          0.926680     ...       1.711630e+04  1.611095e+04   \n",
      "PAY_3          1.087761     ...       1.749410e+04  1.638295e+04   \n",
      "PAY_4          1.366885     ...       1.849642e+04  1.726555e+04   \n",
      "PAY_5          1.086161     ...       1.982293e+04  1.858659e+04   \n",
      "PAY_6          0.963263     ...       1.970555e+04  2.033812e+04   \n",
      "BILL_AMT1  17460.198259     ...       4.075286e+09  3.714795e+09   \n",
      "BILL_AMT2  18790.627741     ...       4.086508e+09  3.720401e+09   \n",
      "BILL_AMT3  19862.999426     ...       4.122238e+09  3.726780e+09   \n",
      "BILL_AMT4  18496.423186     ...       4.138716e+09  3.677105e+09   \n",
      "BILL_AMT5  17265.551898     ...       3.677105e+09  3.696294e+09   \n",
      "BILL_AMT6  16651.586314     ...       3.451762e+09  3.425914e+09   \n",
      "PAY_AMT1    -181.295613     ...       2.482888e+08  2.185501e+08   \n",
      "PAY_AMT2     -52.358166     ...       3.076686e+08  2.538936e+08   \n",
      "PAY_AMT3   -1425.205189     ...       3.398374e+08  2.700805e+08   \n",
      "PAY_AMT4    -796.035739     ...       1.312133e+08  2.791830e+08   \n",
      "PAY_AMT5    -599.991629     ...       1.576892e+08  1.315051e+08   \n",
      "PAY_AMT6    -552.137338     ...       2.031590e+08  1.774537e+08   \n",
      "DEFAULT        0.105115     ...      -2.711999e+02 -1.705974e+02   \n",
      "\n",
      "              BILL_AMT6      PAY_AMT1      PAY_AMT2      PAY_AMT3  \\\n",
      "ID         8.628506e+06  1.397501e+06  1.677383e+06  5.969803e+06   \n",
      "LIMIT_BAL  2.243837e+09  4.195711e+08  5.333504e+08  4.801180e+08   \n",
      "SEX       -4.874302e+02 -1.964266e+00 -1.567550e+01 -7.403481e+01   \n",
      "EDUCATION -4.979924e+02 -5.071947e+02 -5.757970e+02 -5.873272e+02   \n",
      "MARRIAGE  -6.592233e+02 -5.169161e+01 -9.732797e+01 -3.254608e+01   \n",
      "AGE        2.613765e+04  3.992042e+03  4.626862e+03  4.746824e+03   \n",
      "PAY_0      1.184476e+04 -1.475495e+03 -1.815138e+03 -1.396168e+03   \n",
      "PAY_2      1.564288e+04 -1.600241e+03 -1.627192e+03 -1.178331e+03   \n",
      "PAY_3      1.584709e+04  2.566847e+01 -1.841953e+03 -1.123429e+03   \n",
      "PAY_4      1.665159e+04 -1.812956e+02 -5.235817e+01 -1.425205e+03   \n",
      "PAY_5      1.771569e+04 -1.142817e+02 -8.332449e+01  1.808121e+02   \n",
      "PAY_6      1.952488e+04 -2.850067e+01 -1.383995e+02  1.181210e+02   \n",
      "BILL_AMT1  3.519876e+09  1.710894e+08  1.685692e+08  2.034048e+08   \n",
      "BILL_AMT2  3.524868e+09  3.305146e+08  1.653859e+08  1.888731e+08   \n",
      "BILL_AMT3  3.524247e+09  2.806565e+08  5.064226e+08  1.587478e+08   \n",
      "BILL_AMT4  3.451762e+09  2.482888e+08  3.076686e+08  3.398374e+08   \n",
      "BILL_AMT5  3.425914e+09  2.185501e+08  2.538936e+08  2.700805e+08   \n",
      "BILL_AMT6  3.546692e+09  1.972478e+08  2.369244e+08  2.451233e+08   \n",
      "PAY_AMT1   1.972478e+08  2.743423e+08  1.089849e+08  7.354626e+07   \n",
      "PAY_AMT2   2.369244e+08  1.089849e+08  5.308817e+08  9.929841e+07   \n",
      "PAY_AMT3   2.451233e+08  7.354626e+07  9.929841e+07  3.100051e+08   \n",
      "PAY_AMT4   2.334670e+08  5.178189e+07  6.501168e+07  5.966970e+07   \n",
      "PAY_AMT5   2.799982e+08  3.756893e+07  6.368414e+07  4.282921e+07   \n",
      "PAY_AMT6   1.222761e+08  5.469033e+07  6.456816e+07  5.093879e+07   \n",
      "DEFAULT   -1.327963e+02 -5.013746e+02 -5.602107e+02 -4.110763e+02   \n",
      "\n",
      "               PAY_AMT4      PAY_AMT5      PAY_AMT6      DEFAULT  \n",
      "ID         1.057334e+06  8.629502e+04  4.618460e+05   -50.151705  \n",
      "LIMIT_BAL  4.131202e+08  4.305657e+08  5.065153e+08 -8267.551759  \n",
      "SEX       -1.708011e+01 -1.245881e+01 -2.405188e+01    -0.008113  \n",
      "EDUCATION -4.753537e+02 -5.092180e+02 -5.790355e+02     0.010871  \n",
      "MARRIAGE  -1.035182e+02 -9.607709e+00 -6.162327e+01    -0.005273  \n",
      "AGE        3.087324e+03  3.218052e+03  3.191904e+03     0.053143  \n",
      "PAY_0     -1.126848e+03 -9.991077e+02 -1.172194e+03     0.151499  \n",
      "PAY_2     -8.788439e+02 -6.784685e+02 -7.768350e+02     0.130960  \n",
      "PAY_3     -8.637622e+02 -6.557960e+02 -7.630260e+02     0.116867  \n",
      "PAY_4     -7.960357e+02 -5.999916e+02 -5.521373e+02     0.105115  \n",
      "PAY_5     -1.034962e+03 -5.771610e+02 -4.638926e+02     0.096020  \n",
      "PAY_6      3.426237e+02 -8.158327e+02 -5.172163e+02     0.089194  \n",
      "BILL_AMT1  1.826164e+08  1.879091e+08  2.347681e+08  -600.394108  \n",
      "BILL_AMT2  1.643518e+08  1.717652e+08  2.204845e+08  -419.289137  \n",
      "BILL_AMT3  1.558003e+08  1.904126e+08  2.247817e+08  -405.153680  \n",
      "BILL_AMT4  1.312133e+08  1.576892e+08  2.031590e+08  -271.199885  \n",
      "BILL_AMT5  2.791830e+08  1.315051e+08  1.774537e+08  -170.597447  \n",
      "BILL_AMT6  2.334670e+08  2.799982e+08  1.222761e+08  -132.796294  \n",
      "PAY_AMT1   5.178189e+07  3.756893e+07  5.469033e+07  -501.374552  \n",
      "PAY_AMT2   6.501168e+07  6.368414e+07  6.456816e+07  -560.210740  \n",
      "PAY_AMT3   5.966970e+07  4.282921e+07  5.093879e+07  -411.076284  \n",
      "PAY_AMT4   2.454286e+08  3.634098e+07  4.395747e+07  -369.515887  \n",
      "PAY_AMT5   3.634098e+07  2.334266e+08  4.207110e+07  -349.562530  \n",
      "PAY_AMT6   4.395747e+07  4.207110e+07  3.160383e+08  -392.426415  \n",
      "DEFAULT   -3.695159e+02 -3.495625e+02 -3.924264e+02     0.172276  \n",
      "\n",
      "[25 rows x 25 columns]\n"
     ]
    }
   ],
   "source": [
    "#Covariance Estimation\n",
    "covMat = rawData.cov()\n",
    "print(covMat)"
   ]
  },
  {
   "cell_type": "code",
   "execution_count": 42,
   "metadata": {},
   "outputs": [
    {
     "data": {
      "image/png": "[encoded data removed]",
      "text/plain": [
       "<matplotlib.figure.Figure at 0x1ae6f11fe10>"
      ]
     },
     "metadata": {},
     "output_type": "display_data"
    }
   ],
   "source": [
    "#Visualising the Training set results\n",
    "from matplotlib.colors import ListedColormap\n",
    "X_set, y_set = X_train, y_train\n",
    "X1, X2 = np.meshgrid(np.arange(start = X_set[:, 0].min() - 1, stop = X_set[:, 0].max() + 1, step = 0.01),\n",
    "                     np.arange(start = X_set[:, 1].min() - 1, stop = X_set[:, 1].max() + 1, step = 0.01))\n",
    "plt.contourf(X1, X2, classifier.predict(np.array([X1.ravel(), X2.ravel()]).T).reshape(X1.shape),\n",
    "             alpha = 0.75, cmap = ListedColormap(('red', 'green')))\n",
    "plt.xlim(X1.min(), X1.max())\n",
    "plt.ylim(X2.min(), X2.max())\n",
    "for i, j in enumerate(np.unique(y_set)):\n",
    "    plt.scatter(X_set[y_set == j, 0], X_set[y_set == j, 1],\n",
    "                c = ListedColormap(('red', 'green'))(i), label = j)\n",
    "plt.title('SVM (Training set)')\n",
    "plt.xlabel('Age')\n",
    "plt.ylabel('Estimated Salary')\n",
    "plt.legend()\n",
    "plt.show()"
   ]
  },
  {
   "cell_type": "code",
   "execution_count": 39,
   "metadata": {},
   "outputs": [
    {
     "data": {
      "image/png": "[encoded data removed]",
      "text/plain": [
       "<matplotlib.figure.Figure at 0x1b021bb2dd8>"
      ]
     },
     "metadata": {},
     "output_type": "display_data"
    }
   ],
   "source": [
    "#Visualising the Test set results\n",
    "from matplotlib.colors import ListedColormap\n",
    "X_set, y_set = X_test, y_test\n",
    "X1, X2 = np.meshgrid(np.arange(start = X_set[:, 0].min() - 1, stop = X_set[:, 0].max() + 1, step = 0.01),\n",
    "                     np.arange(start = X_set[:, 1].min() - 1, stop = X_set[:, 1].max() + 1, step = 0.01))\n",
    "plt.contourf(X1, X2, classifier.predict(np.array([X1.ravel(), X2.ravel()]).T).reshape(X1.shape),\n",
    "             alpha = 0.75, cmap = ListedColormap(('red', 'green')))\n",
    "plt.xlim(X1.min(), X1.max())\n",
    "plt.ylim(X2.min(), X2.max())\n",
    "for i, j in enumerate(np.unique(y_set)):\n",
    "    plt.scatter(X_set[y_set == j, 0], X_set[y_set == j, 1],\n",
    "                c = ListedColormap(('red', 'green'))(i), label = j)\n",
    "plt.title('SVM (Test set)')\n",
    "plt.xlabel('Age')\n",
    "plt.ylabel('Estimated Salary')\n",
    "plt.legend()\n",
    "plt.show()"
   ]
  }
 ],
 "metadata": {
  "kernelspec": {
   "display_name": "Python 3",
   "language": "python",
   "name": "python3"
  },
  "language_info": {
   "codemirror_mode": {
    "name": "ipython",
    "version": 3
   },
   "file_extension": ".py",
   "mimetype": "text/x-python",
   "name": "python",
   "nbconvert_exporter": "python",
   "pygments_lexer": "ipython3",
   "version": "3.6.4"
  }
 },
 "nbformat": 4,
 "nbformat_minor": 2
}
